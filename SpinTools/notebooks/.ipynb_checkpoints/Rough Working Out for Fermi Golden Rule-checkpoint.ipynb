{
 "cells": [
  {
   "cell_type": "code",
   "execution_count": 69,
   "metadata": {},
   "outputs": [],
   "source": [
    "from SpinTools.spinhamiltonian import spinhamiltonian as sh\n",
    "import numpy as np\n",
    "from scipy.constants import physical_constants as spc\n",
    "from scipy.constants import constants as sc\n",
    "import itertools\n",
    "\n",
    "h = spc[\"Planck constant\"][0]\n",
    "\n",
    "ham = sh.SpinHamiltonian(\"P\")\n",
    "Bz = np.array([1])\n",
    "\n",
    "# Bz = ham.get_field_sweep(bmin=0,bmax=1,bnum=10)\n",
    "# energy = ham.calculate_energy(Bz)"
   ]
  },
  {
   "cell_type": "code",
   "execution_count": 16,
   "metadata": {},
   "outputs": [],
   "source": [
    "np.set_printoptions(suppress=False,precision=3)\n",
    "H = ham.get_hamiltonian([0,0,1]) / h / 1e09"
   ]
  },
  {
   "cell_type": "markdown",
   "metadata": {},
   "source": [
    "### Fermi's Golden Rule for just one field component"
   ]
  },
  {
   "cell_type": "code",
   "execution_count": 35,
   "metadata": {},
   "outputs": [],
   "source": [
    "estate = np.linalg.eig(H)\n",
    "Hdrive = ham.electron_zeeman([0,0,Bz]) + ham.nuclear_zeeman([0,0,Bz])"
   ]
  },
  {
   "cell_type": "code",
   "execution_count": 109,
   "metadata": {},
   "outputs": [],
   "source": [
    "e00 = np.matmul(estate[1][:,0].conjugate(), np.matmul(Hdrive,estate[1][:,1]))\n",
    "e01 = np.matmul(estate[1][:,0].conjugate(), np.matmul(Hdrive,estate[1][:,2]))\n",
    "e02 = np.matmul(estate[1][:,0].conjugate(), np.matmul(Hdrive,estate[1][:,3]))\n",
    "\n",
    "e10 = np.matmul(estate[1][:,1].conjugate(), np.matmul(Hdrive,estate[1][:,2]))\n",
    "e11 = np.matmul(estate[1][:,1].conjugate(), np.matmul(Hdrive,estate[1][:,3]))\n",
    "\n",
    "e20 = np.matmul(estate[1][:,2].conjugate(), np.matmul(Hdrive,estate[1][:,3]))"
   ]
  },
  {
   "cell_type": "code",
   "execution_count": 107,
   "metadata": {},
   "outputs": [],
   "source": [
    "gamma0 = 1e24*abs(e0)\n",
    "gamma1 = 1e24*abs(e1)\n",
    "gamma2 = 1e24*abs(e2)"
   ]
  },
  {
   "cell_type": "code",
   "execution_count": 100,
   "metadata": {},
   "outputs": [],
   "source": [
    "E = estate[0][1] - estate[0][0]"
   ]
  },
  {
   "cell_type": "code",
   "execution_count": 115,
   "metadata": {},
   "outputs": [
    {
     "data": {
      "text/plain": [
       "((-27.978705808716015+0j), 0.03893775704088363)"
      ]
     },
     "execution_count": 115,
     "metadata": {},
     "output_type": "execute_result"
    }
   ],
   "source": [
    "E,gamma0"
   ]
  },
  {
   "cell_type": "markdown",
   "metadata": {},
   "source": [
    "### Now Tidying that up"
   ]
  },
  {
   "cell_type": "code",
   "execution_count": 280,
   "metadata": {},
   "outputs": [],
   "source": [
    "estate = np.linalg.eig(H)\n",
    "eigval = estate[0]\n",
    "eigvec = estate[1]"
   ]
  },
  {
   "cell_type": "code",
   "execution_count": 442,
   "metadata": {},
   "outputs": [],
   "source": [
    "def decorator(gamma_function):\n",
    "    def wrapper_function(*args,**kwargs):\n",
    "        return gamma_function(*args,**kwargs)\n",
    "    return wrapper_function\n",
    "\n",
    "@decorator\n",
    "def zeeman(Bz):\n",
    "    return ham.electron_zeeman([0,0,Bz]) + ham.nuclear_zeeman([0,0,Bz])\n",
    "\n",
    "@decorator\n",
    "def gamma(row,eigvec,hdrive):\n",
    "    return list(map(lambda col : 1e24*abs(np.matmul(eigvec[:,row].conjugate(), \n",
    "                np.matmul(hdrive,eigvec[:,col]))), range(row+1,len(eigvec))))\n",
    "\n",
    "@decorator\n",
    "def hamiltonian(Bz):\n",
    "    return ham.get_hamiltonian([0,0,Bz]) / h / 1e09\n",
    "\n",
    "@decorator\n",
    "def estate(H):\n",
    "    return np.linalg.eig(H)\n",
    "\n",
    "# @decorator\n",
    "# def E():\n",
    "    \n",
    "#     return Ef - Ei"
   ]
  },
  {
   "cell_type": "markdown",
   "metadata": {},
   "source": [
    "### Now for field sweep\n",
    "A decorator is appropriate here I think"
   ]
  },
  {
   "cell_type": "code",
   "execution_count": 462,
   "metadata": {},
   "outputs": [],
   "source": [
    "b = np.arange(0,1,0.01)\n",
    "\n",
    "H = [hamiltonian(b[i]) for i in range(len(b))]\n",
    "\n",
    "Hds = [zeeman(b[i]) for i in range(len(b))]\n",
    "\n",
    "e = [estate(H[i]) for i in range(len(b))]\n",
    "\n",
    "gam = [[gamma(i,e[k][1],Hds[k]) for i in range(len(Hds[0]))] for k in range(len(b))]\n",
    "gam = np.array([x for x in gam for x in x])\n",
    "gam = list(itertools.chain.from_iterable(gam))\n",
    "gam = list(filter(lambda a: a != 0, gam))\n",
    "\n"
   ]
  },
  {
   "cell_type": "code",
   "execution_count": 430,
   "metadata": {},
   "outputs": [
    {
     "data": {
      "text/plain": [
       "array([ 13.96 +0.j, -14.019+0.j,  14.019+0.j, -13.96 +0.j])"
      ]
     },
     "execution_count": 430,
     "metadata": {},
     "output_type": "execute_result"
    }
   ],
   "source": [
    "estate = np.linalg.eig(H)\n",
    "eigval = estate[0]\n",
    "eigvec = estate[1]\n",
    "\n",
    "hdrive = ham.electron_zeeman([0,0,Bz]) + ham.nuclear_zeeman([0,0,Bz])"
   ]
  },
  {
   "cell_type": "code",
   "execution_count": null,
   "metadata": {},
   "outputs": [],
   "source": []
  }
 ],
 "metadata": {
  "kernelspec": {
   "display_name": "Python 3",
   "language": "python",
   "name": "python3"
  },
  "language_info": {
   "codemirror_mode": {
    "name": "ipython",
    "version": 3
   },
   "file_extension": ".py",
   "mimetype": "text/x-python",
   "name": "python",
   "nbconvert_exporter": "python",
   "pygments_lexer": "ipython3",
   "version": "3.6.3"
  }
 },
 "nbformat": 4,
 "nbformat_minor": 2
}
