{
 "cells": [
  {
   "cell_type": "code",
   "execution_count": 46,
   "metadata": {},
   "outputs": [],
   "source": [
    "from SpinTools.spinhamiltonian import spinhamiltonian as sh\n",
    "import numpy as np\n",
    "from scipy.constants import physical_constants as spc\n",
    "from scipy.constants import constants as sc\n",
    "import itertools\n",
    "\n",
    "h = spc[\"Planck constant\"][0]\n",
    "\n",
    "ham = sh.SpinHamiltonian(\"Tst\")"
   ]
  },
  {
   "cell_type": "code",
   "execution_count": 47,
   "metadata": {},
   "outputs": [],
   "source": [
    "def decorator(gamma_function):\n",
    "    def wrapper_function(*args,**kwargs):\n",
    "        return gamma_function(*args,**kwargs)\n",
    "    return wrapper_function\n",
    "\n",
    "@decorator\n",
    "def zeeman(Bz):\n",
    "    return ham.electron_zeeman([0,0,Bz]) + ham.nuclear_zeeman([0,0,Bz])\n",
    "\n",
    "@decorator\n",
    "def gamma(row,eigvec,hdrive):\n",
    "    return list(map(lambda col : 1e24*abs(np.matmul(eigvec[:,col].conjugate(), \n",
    "                np.matmul(hdrive,eigvec[:,row]))), range(row+1,len(eigvec))))\n",
    "\n",
    "@decorator\n",
    "def hamiltonian(Bz):\n",
    "    return ham.get_hamiltonian([0,0,Bz]) / h / 1e09\n",
    "#     return ham.hyperfine()\n",
    "\n",
    "@decorator\n",
    "def estate(H):\n",
    "    return np.linalg.eig(H)\n",
    "\n",
    "@decorator\n",
    "def E(evals):\n",
    "    return evals[1] - evals[0]\n",
    "\n",
    "def get_gamma_values(gam):\n",
    "    gam = np.array([x for x in gam for x in x])\n",
    "    gam = list(itertools.chain.from_iterable(gam))\n",
    "    return list(filter(lambda a: a != 0, gam))"
   ]
  },
  {
   "cell_type": "code",
   "execution_count": 48,
   "metadata": {},
   "outputs": [],
   "source": [
    "b = np.arange(0,1,0.5)\n",
    "\n",
    "H = list(map(hamiltonian,b)) # Get spin hamiltonian\n",
    "Hds = zeeman(1) # Get perturbation hamiltonian\n",
    "\n",
    "evecs = [np.linalg.eig(H)[1][i] for i in range(len(b))]\n",
    "\n",
    "# np.set_printoptions(suppress=False,precision=1)\n",
    "# print(np.real(H))\n",
    "# print('\\n')\n",
    "# print(np.linalg.eig(H[0])[0])\n",
    "# print('\\n')\n",
    "# print(np.linalg.eig(H[0])[1])\n",
    "# print('\\n')\n",
    "# print(np.linalg.eig(H[1])[0])\n",
    "# print('\\n')\n",
    "# print(np.linalg.eig(H[1])[1])\n",
    "\n",
    "# e = list(map(estate,H)) # get eigenstates\n",
    "\n",
    "# Get transition rate\n",
    "# gam = [[gamma(i,e[k][1],Hds) for i in range(len(Hds[0]))] for k in range(len(b))]\n",
    "\n",
    "# Flatten transition rates and give only the values\n",
    "# gam = get_gamma_values(gam)\n",
    "\n",
    "## Get eigenvalues for each matrix element\n",
    "# evals = [e[i][0] for i in range(len(b))]\n",
    "# energy = [abs(evals[i][1] - evals[i][0]) for i in range(len(b))]"
   ]
  },
  {
   "cell_type": "code",
   "execution_count": 30,
   "metadata": {},
   "outputs": [
    {
     "name": "stdout",
     "output_type": "stream",
     "text": [
      "[-0.    -0.    -0.    -0.    -0.    -0.    -0.    -0.    -0.    -0.248\n",
      " -0.    -0.    -0.    -0.    -0.    -0.    -0.    -0.     0.969 -0.   ]\n"
     ]
    }
   ],
   "source": [
    "np.set_printoptions(suppress=False, precision=3)\n",
    "print(np.real(evecs[1][:,0]))"
   ]
  },
  {
   "cell_type": "code",
   "execution_count": 40,
   "metadata": {},
   "outputs": [
    {
     "name": "stdout",
     "output_type": "stream",
     "text": [
      "1, 0\n",
      "2, 1\n",
      "3, 2\n",
      "4, 3\n",
      "5, 4\n",
      "6, 5\n",
      "7, 6\n",
      "8, 7\n",
      "9, 8\n",
      "10, 9\n",
      "11, 10\n",
      "12, 11\n",
      "13, 12\n",
      "14, 13\n",
      "15, 14\n",
      "16, 15\n",
      "17, 16\n",
      "18, 17\n",
      "19, 18\n",
      "1, 0\n",
      "2, 1\n",
      "3, 2\n",
      "4, 3\n",
      "5, 4\n",
      "6, 5\n",
      "7, 6\n",
      "8, 7\n",
      "9, 8\n",
      "10, 9\n",
      "11, 10\n",
      "12, 11\n",
      "13, 12\n",
      "14, 13\n",
      "15, 14\n",
      "16, 15\n",
      "17, 16\n",
      "18, 17\n",
      "19, 18\n"
     ]
    }
   ],
   "source": [
    "for n in range(len(b)):\n",
    "    for m in range(len(Hds)-1):\n",
    "#         print(1e24*abs(np.matmul(evecs[n][:,m+1].conjugate(),np.matmul(Hds,evecs[n][:,m]))))\n",
    "        print('{}, {}'.format(m+1,m))"
   ]
  },
  {
   "cell_type": "code",
   "execution_count": 36,
   "metadata": {},
   "outputs": [
    {
     "data": {
      "text/plain": [
       "(20, 20)"
      ]
     },
     "execution_count": 36,
     "metadata": {},
     "output_type": "execute_result"
    }
   ],
   "source": [
    "np.shape(Hds)"
   ]
  },
  {
   "cell_type": "code",
   "execution_count": 49,
   "metadata": {},
   "outputs": [
    {
     "name": "stdout",
     "output_type": "stream",
     "text": [
      "[[-0. -0.j -0. -0.j -0. -0.j -0. -0.j  0. +0.j -0. -0.j  1. +0.j  0. +0.j]\n",
      " [-0. -0.j -0. -0.j  0.5-0.j  0.9+0.j  0. +0.j -0. -0.j  0. +0.j  0. +0.j]\n",
      " [-0. -0.j -0. -0.j  0.9+0.j -0.5-0.j  0. +0.j -0. -0.j  0. +0.j  0. +0.j]\n",
      " [-0. -0.j -0. -0.j -0. -0.j -0. -0.j  0.7+0.j -0.7-0.j  0. +0.j  0. +0.j]\n",
      " [-0. -0.j -0. -0.j -0. -0.j -0. -0.j  0.7+0.j  0.7+0.j  0. +0.j  0. +0.j]\n",
      " [-0.5-0.j  0.9+0.j -0. -0.j -0. -0.j  0. +0.j -0. -0.j  0. +0.j  0. +0.j]\n",
      " [ 0.9+0.j  0.5-0.j -0. -0.j -0. -0.j  0. +0.j -0. -0.j  0. +0.j  0. +0.j]\n",
      " [-0. -0.j -0. -0.j -0. -0.j -0. -0.j  0. +0.j -0. -0.j  0. +0.j  1. +0.j]]\n"
     ]
    }
   ],
   "source": [
    "E0_values = np.linalg.eig(H[0])[0]\n",
    "E0_vecs = np.linalg.eig(H[0])[1]\n",
    "\n",
    "E1_values = np.linalg.eig(H[1])[0]\n",
    "E1_vecs = np.linalg.eig(H[1])[1]\n",
    "\n",
    "print(E0_vecs)"
   ]
  },
  {
   "cell_type": "markdown",
   "metadata": {},
   "source": [
    "### i = 1st col"
   ]
  },
  {
   "cell_type": "code",
   "execution_count": 37,
   "metadata": {},
   "outputs": [
    {
     "name": "stdout",
     "output_type": "stream",
     "text": [
      "(-8.023506730198696e-24+0j)\n",
      "0j\n",
      "(8.023506730198696e-24+0j)\n",
      "0j\n",
      "(2.7803470404968016e-23+0j)\n",
      "0j\n",
      "0j\n"
     ]
    }
   ],
   "source": [
    "print(np.matmul(E0_vecs[:,1].conjugate(),np.matmul(Hds,E0_vecs[:,0])))\n",
    "print(np.matmul(E0_vecs[:,2].conjugate(),np.matmul(Hds,E0_vecs[:,0])))\n",
    "print(np.matmul(E0_vecs[:,3].conjugate(),np.matmul(Hds,E0_vecs[:,0])))\n",
    "print(np.matmul(E0_vecs[:,4].conjugate(),np.matmul(Hds,E0_vecs[:,0])))\n",
    "print(np.matmul(E0_vecs[:,5].conjugate(),np.matmul(Hds,E0_vecs[:,0])))\n",
    "print(np.matmul(E0_vecs[:,6].conjugate(),np.matmul(Hds,E0_vecs[:,0])))\n",
    "print(np.matmul(E0_vecs[:,7].conjugate(),np.matmul(Hds,E0_vecs[:,0])))"
   ]
  },
  {
   "cell_type": "markdown",
   "metadata": {},
   "source": [
    "### i = 2nd col"
   ]
  },
  {
   "cell_type": "code",
   "execution_count": 39,
   "metadata": {},
   "outputs": [
    {
     "name": "stdout",
     "output_type": "stream",
     "text": [
      "0j\n",
      "0j\n",
      "0j\n",
      "0j\n",
      "0j\n",
      "0j\n"
     ]
    }
   ],
   "source": [
    "print(np.matmul(E0_vecs[:,2].conjugate(),np.matmul(Hds,E0_vecs[:,1])))\n",
    "print(np.matmul(E0_vecs[:,3].conjugate(),np.matmul(Hds,E0_vecs[:,1])))\n",
    "print(np.matmul(E0_vecs[:,4].conjugate(),np.matmul(Hds,E0_vecs[:,1])))\n",
    "print(np.matmul(E0_vecs[:,5].conjugate(),np.matmul(Hds,E0_vecs[:,1])))\n",
    "print(np.matmul(E0_vecs[:,6].conjugate(),np.matmul(Hds,E0_vecs[:,1])))\n",
    "print(np.matmul(E0_vecs[:,7].conjugate(),np.matmul(Hds,E0_vecs[:,1])))"
   ]
  },
  {
   "cell_type": "markdown",
   "metadata": {},
   "source": [
    "### i = 3rd col"
   ]
  },
  {
   "cell_type": "code",
   "execution_count": 41,
   "metadata": {},
   "outputs": [
    {
     "name": "stdout",
     "output_type": "stream",
     "text": [
      "(8.023506730198696e-24+0j)\n",
      "0j\n",
      "0j\n",
      "0j\n",
      "0j\n"
     ]
    }
   ],
   "source": [
    "print(np.matmul(E0_vecs[:,3].conjugate(),np.matmul(Hds,E0_vecs[:,2])))\n",
    "print(np.matmul(E0_vecs[:,4].conjugate(),np.matmul(Hds,E0_vecs[:,2])))\n",
    "print(np.matmul(E0_vecs[:,5].conjugate(),np.matmul(Hds,E0_vecs[:,2])))\n",
    "print(np.matmul(E0_vecs[:,6].conjugate(),np.matmul(Hds,E0_vecs[:,2])))\n",
    "print(np.matmul(E0_vecs[:,7].conjugate(),np.matmul(Hds,E0_vecs[:,2])))"
   ]
  },
  {
   "cell_type": "markdown",
   "metadata": {},
   "source": [
    "### i = 4th col"
   ]
  },
  {
   "cell_type": "code",
   "execution_count": 46,
   "metadata": {},
   "outputs": [
    {
     "name": "stdout",
     "output_type": "stream",
     "text": [
      "0j\n",
      "0j\n",
      "0j\n",
      "0j\n"
     ]
    }
   ],
   "source": [
    "print(np.matmul(E0_vecs[:,4].conjugate(),np.matmul(Hds,E0_vecs[:,3])))\n",
    "print(np.matmul(E0_vecs[:,5].conjugate(),np.matmul(Hds,E0_vecs[:,3])))\n",
    "print(np.matmul(E0_vecs[:,6].conjugate(),np.matmul(Hds,E0_vecs[:,3])))\n",
    "print(np.matmul(E0_vecs[:,7].conjugate(),np.matmul(Hds,E0_vecs[:,3])))"
   ]
  },
  {
   "cell_type": "markdown",
   "metadata": {},
   "source": [
    "### i = 5th col"
   ]
  },
  {
   "cell_type": "code",
   "execution_count": 47,
   "metadata": {},
   "outputs": [
    {
     "name": "stdout",
     "output_type": "stream",
     "text": [
      "(2.7803470404968016e-23+0j)\n",
      "0j\n",
      "0j\n"
     ]
    }
   ],
   "source": [
    "print(np.matmul(E0_vecs[:,5].conjugate(),np.matmul(Hds,E0_vecs[:,4])))\n",
    "print(np.matmul(E0_vecs[:,6].conjugate(),np.matmul(Hds,E0_vecs[:,4])))\n",
    "print(np.matmul(E0_vecs[:,7].conjugate(),np.matmul(Hds,E0_vecs[:,4])))"
   ]
  },
  {
   "cell_type": "markdown",
   "metadata": {},
   "source": [
    "### i = 6th col"
   ]
  },
  {
   "cell_type": "code",
   "execution_count": 44,
   "metadata": {},
   "outputs": [
    {
     "name": "stdout",
     "output_type": "stream",
     "text": [
      "0j\n",
      "0j\n"
     ]
    }
   ],
   "source": [
    "print(np.matmul(E0_vecs[:,6].conjugate(),np.matmul(Hds,E0_vecs[:,5])))\n",
    "print(np.matmul(E0_vecs[:,7].conjugate(),np.matmul(Hds,E0_vecs[:,5])))"
   ]
  },
  {
   "cell_type": "markdown",
   "metadata": {},
   "source": [
    "### i = 7th col"
   ]
  },
  {
   "cell_type": "code",
   "execution_count": 48,
   "metadata": {},
   "outputs": [
    {
     "name": "stdout",
     "output_type": "stream",
     "text": [
      "0j\n"
     ]
    }
   ],
   "source": [
    "print(np.matmul(E0_vecs[:,7].conjugate(),np.matmul(Hds,E0_vecs[:,6])))"
   ]
  },
  {
   "cell_type": "code",
   "execution_count": null,
   "metadata": {},
   "outputs": [],
   "source": []
  },
  {
   "cell_type": "code",
   "execution_count": 50,
   "metadata": {},
   "outputs": [
    {
     "name": "stdout",
     "output_type": "stream",
     "text": [
      "(-1.3374724896606492e-25+0j)\n",
      "0j\n",
      "0j\n",
      "0j\n",
      "0j\n",
      "0j\n",
      "0j\n"
     ]
    }
   ],
   "source": [
    "print(np.matmul(E1_vecs[:,1].conjugate(),np.matmul(Hds,E1_vecs[:,0])))\n",
    "print(np.matmul(E1_vecs[:,2].conjugate(),np.matmul(Hds,E1_vecs[:,0])))\n",
    "print(np.matmul(E1_vecs[:,3].conjugate(),np.matmul(Hds,E1_vecs[:,0])))\n",
    "print(np.matmul(E1_vecs[:,4].conjugate(),np.matmul(Hds,E1_vecs[:,0])))\n",
    "print(np.matmul(E1_vecs[:,5].conjugate(),np.matmul(Hds,E1_vecs[:,0])))\n",
    "print(np.matmul(E1_vecs[:,6].conjugate(),np.matmul(Hds,E1_vecs[:,0])))\n",
    "print(np.matmul(E1_vecs[:,7].conjugate(),np.matmul(Hds,E1_vecs[:,0])))"
   ]
  },
  {
   "cell_type": "code",
   "execution_count": 51,
   "metadata": {},
   "outputs": [
    {
     "name": "stdout",
     "output_type": "stream",
     "text": [
      "0j\n",
      "0j\n",
      "0j\n",
      "0j\n",
      "0j\n",
      "0j\n"
     ]
    }
   ],
   "source": [
    "print(np.matmul(E1_vecs[:,2].conjugate(),np.matmul(Hds,E1_vecs[:,1])))\n",
    "print(np.matmul(E1_vecs[:,3].conjugate(),np.matmul(Hds,E1_vecs[:,1])))\n",
    "print(np.matmul(E1_vecs[:,4].conjugate(),np.matmul(Hds,E1_vecs[:,1])))\n",
    "print(np.matmul(E1_vecs[:,5].conjugate(),np.matmul(Hds,E1_vecs[:,1])))\n",
    "print(np.matmul(E1_vecs[:,6].conjugate(),np.matmul(Hds,E1_vecs[:,1])))\n",
    "print(np.matmul(E1_vecs[:,7].conjugate(),np.matmul(Hds,E1_vecs[:,1])))"
   ]
  },
  {
   "cell_type": "code",
   "execution_count": 52,
   "metadata": {},
   "outputs": [
    {
     "name": "stdout",
     "output_type": "stream",
     "text": [
      "(-1.3601428877085969e-25+0j)\n",
      "0j\n",
      "0j\n",
      "0j\n",
      "0j\n"
     ]
    }
   ],
   "source": [
    "print(np.matmul(E1_vecs[:,3].conjugate(),np.matmul(Hds,E1_vecs[:,2])))\n",
    "print(np.matmul(E1_vecs[:,4].conjugate(),np.matmul(Hds,E1_vecs[:,2])))\n",
    "print(np.matmul(E1_vecs[:,5].conjugate(),np.matmul(Hds,E1_vecs[:,2])))\n",
    "print(np.matmul(E1_vecs[:,6].conjugate(),np.matmul(Hds,E1_vecs[:,2])))\n",
    "print(np.matmul(E1_vecs[:,7].conjugate(),np.matmul(Hds,E1_vecs[:,2])))"
   ]
  },
  {
   "cell_type": "code",
   "execution_count": 53,
   "metadata": {},
   "outputs": [
    {
     "name": "stdout",
     "output_type": "stream",
     "text": [
      "0j\n",
      "0j\n",
      "0j\n",
      "0j\n"
     ]
    }
   ],
   "source": [
    "print(np.matmul(E1_vecs[:,4].conjugate(),np.matmul(Hds,E1_vecs[:,3])))\n",
    "print(np.matmul(E1_vecs[:,5].conjugate(),np.matmul(Hds,E1_vecs[:,3])))\n",
    "print(np.matmul(E1_vecs[:,6].conjugate(),np.matmul(Hds,E1_vecs[:,3])))\n",
    "print(np.matmul(E1_vecs[:,7].conjugate(),np.matmul(Hds,E1_vecs[:,3])))"
   ]
  },
  {
   "cell_type": "code",
   "execution_count": 54,
   "metadata": {},
   "outputs": [
    {
     "name": "stdout",
     "output_type": "stream",
     "text": [
      "(-1.5574995855816112e-25+0j)\n",
      "0j\n",
      "0j\n"
     ]
    }
   ],
   "source": [
    "print(np.matmul(E1_vecs[:,5].conjugate(),np.matmul(Hds,E1_vecs[:,4])))\n",
    "print(np.matmul(E1_vecs[:,6].conjugate(),np.matmul(Hds,E1_vecs[:,4])))\n",
    "print(np.matmul(E1_vecs[:,7].conjugate(),np.matmul(Hds,E1_vecs[:,4])))"
   ]
  },
  {
   "cell_type": "code",
   "execution_count": 55,
   "metadata": {},
   "outputs": [
    {
     "name": "stdout",
     "output_type": "stream",
     "text": [
      "0j\n",
      "0j\n"
     ]
    }
   ],
   "source": [
    "print(np.matmul(E1_vecs[:,6].conjugate(),np.matmul(Hds,E1_vecs[:,5])))\n",
    "print(np.matmul(E1_vecs[:,7].conjugate(),np.matmul(Hds,E1_vecs[:,5])))"
   ]
  },
  {
   "cell_type": "code",
   "execution_count": 56,
   "metadata": {},
   "outputs": [
    {
     "name": "stdout",
     "output_type": "stream",
     "text": [
      "0j\n"
     ]
    }
   ],
   "source": [
    "print(np.matmul(E1_vecs[:,7].conjugate(),np.matmul(Hds,E1_vecs[:,6])))"
   ]
  },
  {
   "cell_type": "code",
   "execution_count": null,
   "metadata": {},
   "outputs": [],
   "source": []
  },
  {
   "cell_type": "code",
   "execution_count": null,
   "metadata": {},
   "outputs": [],
   "source": []
  },
  {
   "cell_type": "code",
   "execution_count": null,
   "metadata": {},
   "outputs": [],
   "source": []
  },
  {
   "cell_type": "code",
   "execution_count": 41,
   "metadata": {},
   "outputs": [
    {
     "data": {
      "text/plain": [
       "array([8, 9, 0, 1, 2, 3, 4, 5, 6, 7])"
      ]
     },
     "execution_count": 41,
     "metadata": {},
     "output_type": "execute_result"
    }
   ],
   "source": [
    "x = np.arange(10)\n",
    "np.roll(x,2)"
   ]
  },
  {
   "cell_type": "code",
   "execution_count": 42,
   "metadata": {},
   "outputs": [
    {
     "data": {
      "text/plain": [
       "array([0, 1, 2, 3, 4, 5, 6, 7, 8, 9])"
      ]
     },
     "execution_count": 42,
     "metadata": {},
     "output_type": "execute_result"
    }
   ],
   "source": [
    "x"
   ]
  },
  {
   "cell_type": "code",
   "execution_count": null,
   "metadata": {},
   "outputs": [],
   "source": []
  },
  {
   "cell_type": "code",
   "execution_count": null,
   "metadata": {},
   "outputs": [],
   "source": []
  },
  {
   "cell_type": "code",
   "execution_count": null,
   "metadata": {},
   "outputs": [],
   "source": []
  },
  {
   "cell_type": "code",
   "execution_count": 43,
   "metadata": {},
   "outputs": [
    {
     "ename": "TypeError",
     "evalue": "list indices must be integers or slices, not tuple",
     "output_type": "error",
     "traceback": [
      "\u001b[0;31m---------------------------------------------------------------------------\u001b[0m",
      "\u001b[0;31mTypeError\u001b[0m                                 Traceback (most recent call last)",
      "\u001b[0;32m<ipython-input-43-614585a48776>\u001b[0m in \u001b[0;36m<module>\u001b[0;34m\u001b[0m\n\u001b[1;32m      1\u001b[0m \u001b[0;34m[\u001b[0m\u001b[0;36m0\u001b[0m\u001b[0;34m,\u001b[0m\u001b[0;36m1\u001b[0m\u001b[0;34m,\u001b[0m\u001b[0;36m2\u001b[0m\u001b[0;34m,\u001b[0m\u001b[0;36m3\u001b[0m\u001b[0;34m,\u001b[0m\u001b[0;36m4\u001b[0m\u001b[0;34m,\u001b[0m\u001b[0;36m5\u001b[0m\u001b[0;34m,\u001b[0m\u001b[0;36m6\u001b[0m\u001b[0;34m,\u001b[0m\u001b[0;36m7\u001b[0m\u001b[0;34m]\u001b[0m\u001b[0;34m\u001b[0m\u001b[0m\n\u001b[1;32m      2\u001b[0m \u001b[0;34m\u001b[0m\u001b[0m\n\u001b[0;32m----> 3\u001b[0;31m \u001b[0;34m[\u001b[0m\u001b[0;36m0\u001b[0m\u001b[0;34m]\u001b[0m \u001b[0;34m[\u001b[0m\u001b[0;36m1\u001b[0m\u001b[0;34m,\u001b[0m\u001b[0;36m2\u001b[0m\u001b[0;34m,\u001b[0m\u001b[0;36m3\u001b[0m\u001b[0;34m,\u001b[0m\u001b[0;36m4\u001b[0m\u001b[0;34m,\u001b[0m\u001b[0;36m5\u001b[0m\u001b[0;34m,\u001b[0m\u001b[0;36m6\u001b[0m\u001b[0;34m,\u001b[0m\u001b[0;36m7\u001b[0m\u001b[0;34m]\u001b[0m\u001b[0;34m\u001b[0m\u001b[0m\n\u001b[0m\u001b[1;32m      4\u001b[0m \u001b[0;34m[\u001b[0m\u001b[0;36m1\u001b[0m\u001b[0;34m]\u001b[0m \u001b[0;34m[\u001b[0m\u001b[0;36m2\u001b[0m\u001b[0;34m,\u001b[0m\u001b[0;36m3\u001b[0m\u001b[0;34m,\u001b[0m\u001b[0;36m4\u001b[0m\u001b[0;34m,\u001b[0m\u001b[0;36m5\u001b[0m\u001b[0;34m,\u001b[0m\u001b[0;36m6\u001b[0m\u001b[0;34m,\u001b[0m\u001b[0;36m7\u001b[0m\u001b[0;34m]\u001b[0m\u001b[0;34m\u001b[0m\u001b[0m\n\u001b[1;32m      5\u001b[0m \u001b[0;34m[\u001b[0m\u001b[0;36m2\u001b[0m\u001b[0;34m]\u001b[0m \u001b[0;34m[\u001b[0m\u001b[0;36m3\u001b[0m\u001b[0;34m,\u001b[0m\u001b[0;36m4\u001b[0m\u001b[0;34m,\u001b[0m\u001b[0;36m5\u001b[0m\u001b[0;34m,\u001b[0m\u001b[0;36m6\u001b[0m\u001b[0;34m,\u001b[0m\u001b[0;36m7\u001b[0m\u001b[0;34m]\u001b[0m\u001b[0;34m\u001b[0m\u001b[0m\n",
      "\u001b[0;31mTypeError\u001b[0m: list indices must be integers or slices, not tuple"
     ]
    }
   ],
   "source": [
    "[0,1,2,3,4,5,6,7]\n",
    "\n",
    "[0] [1,2,3,4,5,6,7]\n",
    "[1] [2,3,4,5,6,7]\n",
    "[2] [3,4,5,6,7]\n",
    "[3] [4,5,6,7]\n",
    "[4] [5,6,7]\n",
    "[5] [6,7]\n",
    "[6] [7]"
   ]
  },
  {
   "cell_type": "code",
   "execution_count": 49,
   "metadata": {},
   "outputs": [],
   "source": [
    "gam = lambda i,f : 1e24*abs(np.matmul(f.conjugate(), np.matmul(Hds,i)))\n",
    "\n",
    "eiter = [[(y,z) for z in range(y+1,len(Hds))] for y in range(len(b))]\n",
    "eiter = list(itertools.chain.from_iterable(eiter))\n",
    "eiter"
   ]
  },
  {
   "cell_type": "code",
   "execution_count": 59,
   "metadata": {},
   "outputs": [
    {
     "data": {
      "text/plain": [
       "[8.023506730198696, 0.0, 0.0, 0.0, 0.0, 0.0, 0.0]"
      ]
     },
     "execution_count": 59,
     "metadata": {},
     "output_type": "execute_result"
    }
   ],
   "source": [
    "[gam(evecs[0][:,n],evecs[0][:,0]) for n in range(1,len(Hds))]\n",
    "# [gam(evecs[0][:,n],evecs[0][:,1]) for n in range(2,len(Hds))]\n",
    "# [gam(evecs[0][:,n],evecs[0][:,2]) for n in range(3,len(Hds))]\n",
    "# [gam(evecs[0][:,n],evecs[0][:,3]) for n in range(4,len(Hds))]\n",
    "# [gam(evecs[0][:,n],evecs[0][:,4]) for n in range(5,len(Hds))]\n",
    "# [gam(evecs[0][:,n],evecs[0][:,5]) for n in range(6,len(Hds))]\n",
    "# [gam(evecs[0][:,n],evecs[0][:,6]) for n in range(7,len(Hds))]\n"
   ]
  },
  {
   "cell_type": "code",
   "execution_count": 125,
   "metadata": {},
   "outputs": [
    {
     "ename": "TypeError",
     "evalue": "zip argument #2 must support iteration",
     "output_type": "error",
     "traceback": [
      "\u001b[0;31m---------------------------------------------------------------------------\u001b[0m",
      "\u001b[0;31mTypeError\u001b[0m                                 Traceback (most recent call last)",
      "\u001b[0;32m<ipython-input-125-3cadf6af1561>\u001b[0m in \u001b[0;36m<module>\u001b[0;34m\u001b[0m\n\u001b[1;32m      1\u001b[0m \u001b[0mev\u001b[0m \u001b[0;34m=\u001b[0m \u001b[0;32mlambda\u001b[0m \u001b[0mevec\u001b[0m\u001b[0;34m,\u001b[0m\u001b[0mm\u001b[0m \u001b[0;34m:\u001b[0m \u001b[0mevec\u001b[0m\u001b[0;34m[\u001b[0m\u001b[0;34m:\u001b[0m\u001b[0;34m,\u001b[0m\u001b[0mm\u001b[0m\u001b[0;34m]\u001b[0m\u001b[0;34m.\u001b[0m\u001b[0mconjugate\u001b[0m\u001b[0;34m(\u001b[0m\u001b[0;34m)\u001b[0m\u001b[0;34m\u001b[0m\u001b[0m\n\u001b[0;32m----> 2\u001b[0;31m \u001b[0mlist\u001b[0m\u001b[0;34m(\u001b[0m\u001b[0mmap\u001b[0m\u001b[0;34m(\u001b[0m\u001b[0mev\u001b[0m\u001b[0;34m,\u001b[0m\u001b[0mzip\u001b[0m\u001b[0;34m(\u001b[0m\u001b[0mevecs\u001b[0m\u001b[0;34m[\u001b[0m\u001b[0;36m0\u001b[0m\u001b[0;34m]\u001b[0m\u001b[0;34m,\u001b[0m\u001b[0;36m1\u001b[0m\u001b[0;34m)\u001b[0m\u001b[0;34m)\u001b[0m\u001b[0;34m)\u001b[0m\u001b[0;34m\u001b[0m\u001b[0m\n\u001b[0m",
      "\u001b[0;31mTypeError\u001b[0m: zip argument #2 must support iteration"
     ]
    }
   ],
   "source": [
    "ev = lambda evec,m : evec[:,m].conjugate()\n",
    "list(map(ev,zip(evecs[0],1)))"
   ]
  },
  {
   "cell_type": "code",
   "execution_count": 113,
   "metadata": {},
   "outputs": [
    {
     "data": {
      "text/plain": [
       "array([-0.       -0.j, -0.       -0.j,  0.5      -0.j,  0.8660254+0.j,\n",
       "        0.       +0.j, -0.       -0.j,  0.       +0.j,  0.       +0.j])"
      ]
     },
     "execution_count": 113,
     "metadata": {},
     "output_type": "execute_result"
    }
   ],
   "source": [
    "evecs[0][eiter[0][1]]"
   ]
  },
  {
   "cell_type": "code",
   "execution_count": 116,
   "metadata": {},
   "outputs": [
    {
     "data": {
      "text/plain": [
       "<function __main__.<lambda>(evec, m)>"
      ]
     },
     "execution_count": 116,
     "metadata": {},
     "output_type": "execute_result"
    }
   ],
   "source": [
    "ev"
   ]
  },
  {
   "cell_type": "code",
   "execution_count": null,
   "metadata": {},
   "outputs": [],
   "source": []
  }
 ],
 "metadata": {
  "kernelspec": {
   "display_name": "Python 3",
   "language": "python",
   "name": "python3"
  },
  "language_info": {
   "codemirror_mode": {
    "name": "ipython",
    "version": 3
   },
   "file_extension": ".py",
   "mimetype": "text/x-python",
   "name": "python",
   "nbconvert_exporter": "python",
   "pygments_lexer": "ipython3",
   "version": "3.6.3"
  }
 },
 "nbformat": 4,
 "nbformat_minor": 2
}
