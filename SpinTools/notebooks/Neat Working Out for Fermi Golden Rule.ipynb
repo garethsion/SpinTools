{
 "cells": [
  {
   "cell_type": "code",
   "execution_count": 1,
   "metadata": {},
   "outputs": [],
   "source": [
    "from SpinTools.spinhamiltonian import spinhamiltonian as sh\n",
    "import numpy as np\n",
    "from scipy.constants import physical_constants as spc\n",
    "from scipy.constants import constants as sc\n",
    "import itertools\n",
    "\n",
    "h = spc[\"Planck constant\"][0]\n",
    "\n",
    "ham = sh.SpinHamiltonian(\"P\")"
   ]
  },
  {
   "cell_type": "code",
   "execution_count": 2,
   "metadata": {},
   "outputs": [],
   "source": [
    "def decorator(gamma_function):\n",
    "    def wrapper_function(*args,**kwargs):\n",
    "        return gamma_function(*args,**kwargs)\n",
    "    return wrapper_function\n",
    "\n",
    "@decorator\n",
    "def zeeman(Bz):\n",
    "    return ham.electron_zeeman([0,0,Bz]) + ham.nuclear_zeeman([0,0,Bz])\n",
    "\n",
    "# @decorator\n",
    "# def gamma(row,eigvec,hdrive):\n",
    "#     return list(map(lambda col : 1e24*abs(np.matmul(eigvec[:,row].conjugate(), \n",
    "#                 np.matmul(hdrive,eigvec[:,col]))), range(row+1,len(eigvec))))\n",
    "\n",
    "@decorator\n",
    "def gamma(row,eigvec,hdrive):\n",
    "    return list(map(lambda col : 1e24*abs(np.matmul(eigvec[:,col].conjugate(), \n",
    "                np.matmul(hdrive,eigvec[:,row]))), range(row+1,len(eigvec))))\n",
    "\n",
    "@decorator\n",
    "def hamiltonian(Bz):\n",
    "    return ham.get_hamiltonian([0,0,Bz]) / h / 1e09\n",
    "#     return ham.hyperfine()\n",
    "\n",
    "@decorator\n",
    "def estate(H):\n",
    "    return np.linalg.eig(H)\n",
    "\n",
    "@decorator\n",
    "def E(evals):\n",
    "    return evals[1] - evals[0]\n",
    "\n",
    "def get_gamma_values(gam):\n",
    "    gam = np.array([x for x in gam for x in x])\n",
    "    gam = list(itertools.chain.from_iterable(gam))\n",
    "    return list(filter(lambda a: a != 0, gam))"
   ]
  },
  {
   "cell_type": "code",
   "execution_count": 10,
   "metadata": {},
   "outputs": [],
   "source": [
    "b = np.arange(0.2,0.21,0.0005)\n",
    "\n",
    "H = list(map(hamiltonian,b)) # Get spin hamiltonian\n",
    "Hds = zeeman(1) # Get perturbation hamiltonian\n",
    "e = list(map(estate,H)) # get eigenstates\n",
    "\n",
    "# Get transition rate\n",
    "gam = [[gamma(i,e[k][1],Hds) for i in range(len(Hds[0]))] for k in range(len(b))]\n",
    "\n",
    "# Flatten transition rates and give only the values\n",
    "gam = get_gamma_values(gam)\n",
    "\n",
    "# Get eigenvalues for each matrix element\n",
    "evals = [e[i][0] for i in range(len(b))]\n",
    "energy = [E(evals[i]) for i in range(len(b))]"
   ]
  },
  {
   "cell_type": "code",
   "execution_count": 11,
   "metadata": {},
   "outputs": [
    {
     "data": {
      "image/png": "[encoded data removed]",
      "text/plain": [
       "<Figure size 432x288 with 1 Axes>"
      ]
     },
     "metadata": {
      "needs_background": "light"
     },
     "output_type": "display_data"
    }
   ],
   "source": [
    "from matplotlib import pyplot as plt\n",
    "plt.plot(b[0:len(b)],gam)\n",
    "plt.xlabel('$B$ ($T$)')\n",
    "plt.ylabel('$\\Gamma$',rotation=0)\n",
    "plt.show()"
   ]
  },
  {
   "cell_type": "code",
   "execution_count": null,
   "metadata": {},
   "outputs": [],
   "source": []
  }
 ],
 "metadata": {
  "kernelspec": {
   "display_name": "Python 3",
   "language": "python",
   "name": "python3"
  },
  "language_info": {
   "codemirror_mode": {
    "name": "ipython",
    "version": 3
   },
   "file_extension": ".py",
   "mimetype": "text/x-python",
   "name": "python",
   "nbconvert_exporter": "python",
   "pygments_lexer": "ipython3",
   "version": "3.6.3"
  }
 },
 "nbformat": 4,
 "nbformat_minor": 2
}
