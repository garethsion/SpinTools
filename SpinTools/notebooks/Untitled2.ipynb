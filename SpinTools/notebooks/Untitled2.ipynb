{
 "cells": [
  {
   "cell_type": "code",
   "execution_count": null,
   "metadata": {},
   "outputs": [],
   "source": [
    "import logging\n",
    "import math"
   ]
  },
  {
   "cell_type": "code",
   "execution_count": 3,
   "metadata": {},
   "outputs": [],
   "source": [
    "# Create and configure logger\n",
    "LOG_FORMAT = \"%(levelname)s %(asctime)s - %(message)s\"\n",
    "logging.basicConfig(filename = \"testlog.log\",\n",
    "    level = logging.DEBUG,\n",
    "    format = LOG_FORMAT,\n",
    "    filemode = 'w')\n",
    "logger = logging.getLogger()\n",
    "\n",
    "# Test messages\n",
    "logger.debug(\"This is a harmless debug message.\")\n",
    "logger.info(\"Just some useful info\")\n",
    "logger.warning(\"I'm sorry, but I can't do that Dave\")\n",
    "logger.error(\"Did you just try to divide by zero?\")\n",
    "logger.critical(\"The entire internet is down!\")"
   ]
  },
  {
   "cell_type": "code",
   "execution_count": 4,
   "metadata": {},
   "outputs": [],
   "source": [
    "def quadratic_formula(a, b, c):\n",
    "    \"\"\"Return the solutions to the equation ax^2 + bx + c = 0\"\"\"\n",
    "    logger.info(\"quadratic formula({0}, {1}, {2})\".format(a, b, c))\n",
    "\n",
    "    # Compute the discriminant\n",
    "    logger.debug(\"# Compute the discriminant\")\n",
    "    disc = b**2 - 4*a*c\n",
    "\n",
    "    # Compute the two roots\n",
    "    logger.debug(\"# Compute the two roots\")\n",
    "    root1 = (-b + math.sqrt(disc)) / (2*a)\n",
    "    root2 = (-b - math.sqrt(disc)) / (2*a)\n",
    "\n",
    "    # Return the roots\n",
    "    logger.debug('# Return the roots\"')\n",
    "    return (root1, root2)"
   ]
  },
  {
   "cell_type": "code",
   "execution_count": 15,
   "metadata": {},
   "outputs": [
    {
     "name": "stdout",
     "output_type": "stream",
     "text": [
      "(2.0, -2.0)\n"
     ]
    }
   ],
   "source": [
    "roots = quadratic_formula(1, 0, -4)\n",
    "print(roots)"
   ]
  }
 ],
 "metadata": {
  "kernelspec": {
   "display_name": "Python 3",
   "language": "python",
   "name": "python3"
  },
  "language_info": {
   "codemirror_mode": {
    "name": "ipython",
    "version": 3
   },
   "file_extension": ".py",
   "mimetype": "text/x-python",
   "name": "python",
   "nbconvert_exporter": "python",
   "pygments_lexer": "ipython3",
   "version": "3.6.3"
  }
 },
 "nbformat": 4,
 "nbformat_minor": 2
}
