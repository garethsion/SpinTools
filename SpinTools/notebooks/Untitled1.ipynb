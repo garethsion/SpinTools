{
 "cells": [
  {
   "cell_type": "code",
   "execution_count": 4,
   "metadata": {},
   "outputs": [],
   "source": [
    "import json"
   ]
  },
  {
   "cell_type": "code",
   "execution_count": 10,
   "metadata": {},
   "outputs": [],
   "source": [
    "species = {'Bi':{'I': 4.5,\n",
    "               'J': 0.5,\n",
    "               'gS': -2.00032,\n",
    "               'gI': 0.9135,\n",
    "               'A': 1475.171e06},\n",
    "          'P':{'I': 0.5,\n",
    "               'J': 0.5,\n",
    "               'gS': 1.9985,\n",
    "               'gI': 0.9135,\n",
    "               'A': 117.53E6}\n",
    "          }"
   ]
  },
  {
   "cell_type": "code",
   "execution_count": 11,
   "metadata": {},
   "outputs": [],
   "source": [
    "file = open('species.json','w')\n",
    "json.dump(species,file)\n",
    "file.close()"
   ]
  },
  {
   "cell_type": "code",
   "execution_count": 12,
   "metadata": {},
   "outputs": [],
   "source": [
    "with open('species.json', 'r') as f:\n",
    "    species_string = f.read()"
   ]
  },
  {
   "cell_type": "code",
   "execution_count": 13,
   "metadata": {},
   "outputs": [],
   "source": [
    "species_data = json.loads(species_string)"
   ]
  },
  {
   "cell_type": "code",
   "execution_count": 14,
   "metadata": {},
   "outputs": [
    {
     "data": {
      "text/plain": [
       "{'Bi': {'I': 4.5, 'J': 0.5, 'gS': -2.00032, 'gI': 0.9135, 'A': 1475171000.0},\n",
       " 'P': {'I': 0.5, 'J': 0.5, 'gS': 1.9985, 'gI': 0.9135, 'A': 117530000.0}}"
      ]
     },
     "execution_count": 14,
     "metadata": {},
     "output_type": "execute_result"
    }
   ],
   "source": [
    "species_data"
   ]
  },
  {
   "cell_type": "code",
   "execution_count": null,
   "metadata": {},
   "outputs": [],
   "source": []
  }
 ],
 "metadata": {
  "kernelspec": {
   "display_name": "Python 3",
   "language": "python",
   "name": "python3"
  },
  "language_info": {
   "codemirror_mode": {
    "name": "ipython",
    "version": 3
   },
   "file_extension": ".py",
   "mimetype": "text/x-python",
   "name": "python",
   "nbconvert_exporter": "python",
   "pygments_lexer": "ipython3",
   "version": "3.6.3"
  }
 },
 "nbformat": 4,
 "nbformat_minor": 2
}
